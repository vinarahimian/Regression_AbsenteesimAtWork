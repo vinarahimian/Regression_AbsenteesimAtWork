{
 "cells": [
  {
   "cell_type": "markdown",
   "metadata": {},
   "source": [
    "# Absenteesim at work dataset"
   ]
  },
  {
   "cell_type": "markdown",
   "metadata": {},
   "source": [
    "#### A linear regression is used herein for estimating the number of hours a person would be absent from work given their available information. For this, we use the \"absenteesim at work\" dataset obtained from the UCI repository, which could be find in the repository. In the dataset, you can find information about individuals, such as their age, education, reasons for absence, etc., as well as the target variable, which is absenteesim time in hours."
   ]
  },
  {
   "cell_type": "markdown",
   "metadata": {},
   "source": [
    "First we want to check how many data points does the dataset includes\n"
   ]
  },
  {
   "cell_type": "code",
   "execution_count": 1,
   "metadata": {},
   "outputs": [
    {
     "name": "stdout",
     "output_type": "stream",
     "text": [
      "740\n"
     ]
    }
   ],
   "source": [
    "import pandas as pd\n",
    "data = pd.read_csv('Absenteeism_at_work.csv', sep=',')\n",
    "print(len(data))"
   ]
  },
  {
   "cell_type": "markdown",
   "metadata": {},
   "source": [
    "Now we randomly split the data into train and test with the ratio 80/20, that is, use 80% of the data to fit the line, and the remaining 20% for testing, with the pre-specified random seed. We train a linear regression model on the training data. Then, we use the trained model to estimate hours of absence in the test data. Finally the average root mean squared error (RMSE) on the test data is reported"
   ]
  },
  {
   "cell_type": "code",
   "execution_count": 24,
   "metadata": {
    "collapsed": true
   },
   "outputs": [],
   "source": [
    "import numpy as np\n",
    "from sklearn.model_selection import train_test_split\n",
    "from sklearn.linear_model import LinearRegression"
   ]
  },
  {
   "cell_type": "code",
   "execution_count": 25,
   "metadata": {
    "collapsed": true
   },
   "outputs": [],
   "source": [
    "# setting independent variables\n",
    "X = data.iloc[:, :-1].values\n",
    "# setting the dependent variable\n",
    "Y = data.iloc[:, 20].values\n",
    "# splitting the data into train and test\n",
    "X_train, X_test, Y_train, Y_test = train_test_split(X, Y, test_size=0.2, random_state= 1234)"
   ]
  },
  {
   "cell_type": "code",
   "execution_count": 26,
   "metadata": {},
   "outputs": [
    {
     "data": {
      "text/plain": [
       "LinearRegression(copy_X=True, fit_intercept=True, n_jobs=1, normalize=False)"
      ]
     },
     "execution_count": 26,
     "metadata": {},
     "output_type": "execute_result"
    }
   ],
   "source": [
    "# an object of the LinearRegression class\n",
    "regressor = LinearRegression()\n",
    "# now fitting the regressor to the training set (training a linear regression model on the training data)\n",
    "regressor.fit(X_train, Y_train)"
   ]
  },
  {
   "cell_type": "code",
   "execution_count": 27,
   "metadata": {
    "collapsed": true
   },
   "outputs": [],
   "source": [
    "# predicting the hours of absence using our test set\n",
    "Y_pred = regressor.predict(X_test)"
   ]
  },
  {
   "cell_type": "code",
   "execution_count": 28,
   "metadata": {},
   "outputs": [
    {
     "name": "stdout",
     "output_type": "stream",
     "text": [
      "8.88834873358575\n"
     ]
    }
   ],
   "source": [
    "from sklearn.metrics import mean_squared_error\n",
    "from math import sqrt\n",
    "# calculating the RMSE\n",
    "rmse = sqrt(mean_squared_error(Y_test, Y_pred))\n",
    "print(rmse)"
   ]
  },
  {
   "cell_type": "markdown",
   "metadata": {},
   "source": [
    "this number indicates how deviated is our predicted Y from the actual Y. 8 is a high deviation, this means the trained model isn't good enough"
   ]
  },
  {
   "cell_type": "markdown",
   "metadata": {},
   "source": [
    "Now we perform 10-fold cross validation and report the RMSE obtained from each fold as well as their average."
   ]
  },
  {
   "cell_type": "code",
   "execution_count": 29,
   "metadata": {},
   "outputs": [
    {
     "name": "stdout",
     "output_type": "stream",
     "text": [
      "Round  1\n",
      "RMSE: 7.25627462941752\n",
      "Round  2\n",
      "RMSE: 10.343899074717738\n",
      "Round  3\n",
      "RMSE: 10.021177715979572\n",
      "Round  4\n",
      "RMSE: 10.978156066137798\n",
      "Round  5\n",
      "RMSE: 14.572395451600453\n",
      "Round  6\n",
      "RMSE: 13.642038915293057\n",
      "Round  7\n",
      "RMSE: 13.280048577940184\n",
      "Round  8\n",
      "RMSE: 9.662220360722165\n",
      "Round  9\n",
      "RMSE: 15.86624505271139\n",
      "Round  10\n",
      "RMSE: 17.18018304150529\n",
      "12.280263888602516\n"
     ]
    }
   ],
   "source": [
    "from sklearn.model_selection import KFold\n",
    "kf = KFold(n_splits=10, random_state=1234)\n",
    "\n",
    "regressor = LinearRegression()\n",
    "sum_rmse = []\n",
    "j =1\n",
    "for i, (train_index, test_index) in enumerate(kf.split(X, Y)):\n",
    "    print ('Round ', j)\n",
    "    X_train, X_test = X[train_index], X[test_index] \n",
    "    Y_train, Y_test = Y[train_index], Y[test_index]\n",
    "    regressor.fit(X_train, Y_train)\n",
    "    Y_pred = regressor.predict(X_test)\n",
    "    rmse = sqrt(mean_squared_error(Y_test, Y_pred))\n",
    "    print('RMSE:', rmse)\n",
    "    sum_rmse.append(rmse)\n",
    "    j += 1\n",
    "    \n",
    "average = sum(sum_rmse)/len(sum_rmse)\n",
    "print(average)   "
   ]
  },
  {
   "cell_type": "markdown",
   "metadata": {},
   "source": [
    "the average rsme in the 10-fold is higher than the rsme of the simple train-test. This means that in average the k-fold cross validation method produces a more deviated Y compared to actual Y. Based on this analysis, it suffice to use cross-validation and don't simply train and test with a random split of the data"
   ]
  },
  {
   "cell_type": "markdown",
   "metadata": {},
   "source": [
    "#### This time, we are interested in K neighbors regression instead of a regression on the whole dataset and we would like to analyze what would be reasonable number of neighbors and what distance to use based on the data. To do so, we're performing a 10-fold cross validation. In each fold, we fit a “weighted” linear regression in the following manner: For a given test data point, we would like to estimate its outcome based on its k ∈ {1, . . . , 10} nearest neighbors and a regression line weighted by the inverse of the distance of the neighbors of the test point. We use the Minkowski distance with degree p ∈ {1, . . . , 10}. For each fold, the k and p at which we obtain the lowest RMSE is reported as well as the average RMSE across all folds."
   ]
  },
  {
   "cell_type": "code",
   "execution_count": 19,
   "metadata": {},
   "outputs": [
    {
     "name": "stdout",
     "output_type": "stream",
     "text": [
      "FOLD  1\n",
      "Minimum RMSE at fold number  1  equals to  7.161269704723024\n",
      "[(0, 0)]  showing number of neighbors and Minkowski degree respectfully\n",
      " \n",
      "FOLD  2\n",
      "Minimum RMSE at fold number  2  equals to  11.319345593668793\n",
      "[(9, 0)]  showing number of neighbors and Minkowski degree respectfully\n",
      " \n",
      "FOLD  3\n",
      "Minimum RMSE at fold number  3  equals to  10.332662817687131\n",
      "[(9, 0)]  showing number of neighbors and Minkowski degree respectfully\n",
      " \n",
      "FOLD  4\n",
      "Minimum RMSE at fold number  4  equals to  11.887976592506996\n",
      "[(9, 1)]  showing number of neighbors and Minkowski degree respectfully\n",
      " \n",
      "FOLD  5\n",
      "Minimum RMSE at fold number  5  equals to  9.815872419268262\n",
      "[(0, 0)]  showing number of neighbors and Minkowski degree respectfully\n",
      " \n",
      "FOLD  6\n",
      "Minimum RMSE at fold number  6  equals to  14.849271244694119\n",
      "[(9, 5)]  showing number of neighbors and Minkowski degree respectfully\n",
      " \n",
      "FOLD  7\n",
      "Minimum RMSE at fold number  7  equals to  13.83743786869479\n",
      "[(3, 0)]  showing number of neighbors and Minkowski degree respectfully\n",
      " \n",
      "FOLD  8\n",
      "Minimum RMSE at fold number  8  equals to  8.797680591333835\n",
      "[(9, 1)]  showing number of neighbors and Minkowski degree respectfully\n",
      " \n",
      "FOLD  9\n",
      "Minimum RMSE at fold number  9  equals to  13.797300601793337\n",
      "[(1, 0)]  showing number of neighbors and Minkowski degree respectfully\n",
      " \n",
      "FOLD  10\n",
      "Minimum RMSE at fold number  10  equals to  17.495611324138867\n",
      "[(6, 0)]  showing number of neighbors and Minkowski degree respectfully\n",
      " \n"
     ]
    }
   ],
   "source": [
    "from sklearn.neighbors import KNeighborsRegressor \n",
    "from sklearn.model_selection import cross_val_score\n",
    "from sklearn.metrics import mean_squared_error\n",
    "from math import sqrt\n",
    "import numpy as np\n",
    "\n",
    "\n",
    "data = pd.read_csv('Absenteeism_at_work.csv', sep=',')\n",
    "X = data.iloc[:, :-1].values\n",
    "# setting the dependent variable\n",
    "Y = data.iloc[:, 20].values\n",
    "# splitting the data into train and test\n",
    "#X_train, X_test, y_train, y_test = train_test_split(X, Y, test_size=0.2, random_state=1234)\n",
    "\n",
    "#creating a list of K for KNN\n",
    "neighbors = list(range(1,11))\n",
    "degree = list(range(1,11))\n",
    "\n",
    "kf = KFold(n_splits=10, random_state=1234)\n",
    "\n",
    "#this is a definition adopted from https://stackoverflow.com/questions/8189169/nested-lists-python for flattening list of lists\n",
    "def flatten(lists):\n",
    "  results = []\n",
    "  for numbers in lists:\n",
    "    for numbers2 in numbers:\n",
    "        results.append(numbers2) \n",
    "  return results\n",
    "\n",
    "        \n",
    "j =1 \n",
    "for i, (train_index, test_index) in enumerate(kf.split(X, Y)):\n",
    "    print ('FOLD ', j)\n",
    "    x_train, x_test, y_train, y_test = X[train_index], X[test_index], Y[train_index], Y[test_index] \n",
    "    ALL=[]\n",
    "    for k in neighbors:\n",
    "        #print ('Number of neighbors: ', k)\n",
    "        RMSE = [] \n",
    "        for p in degree:\n",
    "            #print ('    ','Minkowski degree: ', p)\n",
    "            knn = KNeighborsRegressor(n_neighbors=k, weights='distance', p = p, metric='minkowski')\n",
    "            knn.fit(x_train, y_train)\n",
    "            y_pred = knn.predict(x_test)\n",
    "            # calculating the RMSE\n",
    "            rmse = sqrt(mean_squared_error(y_test, y_pred))\n",
    "            #print('     ', 'RMSE: ', rmse)\n",
    "            RMSE.append(rmse)\n",
    "\n",
    "        #print('MINIMUM RMSE', RMSE)\n",
    "        ALL.append(RMSE)\n",
    "        \n",
    "    MIN_RMSE= min(min(ALL))\n",
    "    print('Minimum RMSE at fold number ', j,' equals to ', MIN_RMSE)\n",
    "    #this is to find index of MIN_RMSE in a list of lists\n",
    "    print([(k, ALL.index(MIN_RMSE))\n",
    " for k, ALL in enumerate(ALL)\n",
    " if MIN_RMSE in ALL], \" showing number of neighbors and Minkowski degree respectfully\")\n",
    "    print(' ')\n",
    "    j += 1\n",
    "    "
   ]
  },
  {
   "cell_type": "code",
   "execution_count": 20,
   "metadata": {},
   "outputs": [
    {
     "name": "stdout",
     "output_type": "stream",
     "text": [
      "AVERAGE RMSE ACROSS ALL FOLDS:  18.871772708418366\n"
     ]
    }
   ],
   "source": [
    "print('AVERAGE RMSE ACROSS ALL FOLDS: ', sum(flatten(ALL))/len(flatten(ALL)))"
   ]
  }
 ],
 "metadata": {
  "kernelspec": {
   "display_name": "Python 3",
   "language": "python",
   "name": "python3"
  },
  "language_info": {
   "codemirror_mode": {
    "name": "ipython",
    "version": 3
   },
   "file_extension": ".py",
   "mimetype": "text/x-python",
   "name": "python",
   "nbconvert_exporter": "python",
   "pygments_lexer": "ipython3",
   "version": "3.6.1"
  }
 },
 "nbformat": 4,
 "nbformat_minor": 2
}
